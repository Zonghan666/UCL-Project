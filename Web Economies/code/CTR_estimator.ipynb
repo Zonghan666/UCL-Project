{
 "cells": [
  {
   "cell_type": "code",
   "execution_count": 3,
   "metadata": {},
   "outputs": [
    {
     "name": "stderr",
     "output_type": "stream",
     "text": [
      "/anaconda3/lib/python3.6/site-packages/lightfm/_lightfm_fast.py:9: UserWarning: LightFM was compiled without OpenMP support. Only a single thread will be used.\n",
      "  warnings.warn('LightFM was compiled without OpenMP support. '\n"
     ]
    }
   ],
   "source": [
    "import pandas as pd\n",
    "import numpy as np\n",
    "import math\n",
    "from sklearn.preprocessing import MinMaxScaler\n",
    "from sklearn.utils import resample\n",
    "\n",
    "import scipy.sparse as sp\n",
    "\n",
    "from sklearn.linear_model import LogisticRegression\n",
    "from sklearn.model_selection import ParameterGrid\n",
    "from sklearn import metrics\n",
    "from xgboost import XGBClassifier\n",
    "from lightgbm import LGBMClassifier\n",
    "from lightfm import LightFM\n",
    "\n",
    "from fastFM import sgd, als"
   ]
  },
  {
   "cell_type": "code",
   "execution_count": 4,
   "metadata": {
    "collapsed": true
   },
   "outputs": [],
   "source": [
    "train_data = pd.read_csv('../data/train.csv')\n",
    "dev_data = pd.read_csv('../data/validation.csv')\n",
    "test_data = pd.read_csv('../data/test.csv')"
   ]
  },
  {
   "cell_type": "markdown",
   "metadata": {},
   "source": [
    "# Proprecess Function"
   ]
  },
  {
   "cell_type": "code",
   "execution_count": 5,
   "metadata": {
    "collapsed": true
   },
   "outputs": [],
   "source": [
    "def preprocess(train, dev, test):\n",
    "    \n",
    "    #merge the data first:\n",
    "    data = [train, dev, test]\n",
    "    data = pd.concat(data)\n",
    "    \n",
    "    #drop the useless columns\n",
    "    drop_cols = ['bidid', 'userid', 'IP', 'domain', 'url', 'urlid', 'slotid', 'bidprice', 'payprice']\n",
    "    data = data.drop(drop_cols, axis=1)\n",
    "    \n",
    "    #encode the useragent features\n",
    "    data['OS'], data['Browser'] = data['useragent'].str.split('_').str\n",
    "    data = data.drop(['useragent'], axis=1)\n",
    "    \n",
    "    #add slot_size = slotwidth * slotheight\n",
    "    data['slotsize'] = data['slotwidth'] * data['slotheight']\n",
    "    \n",
    "    #encode the usertag features\n",
    "    usertag = []\n",
    "    s = list(data.usertag.value_counts().to_dict().keys())\n",
    "    for o in s:\n",
    "        l = o.split(',')\n",
    "        for n in l:\n",
    "            if n not in usertag:\n",
    "                usertag.append(n)\n",
    "    \n",
    "    #add new feature\n",
    "    for n in usertag:\n",
    "        mask = data['usertag'].str.contains(n)\n",
    "        data['usertag_' + str(n)] = mask * 1 #transform boolean to integer\n",
    "        \n",
    "    #drop the usertag column\n",
    "    data = data.drop(['usertag'], axis=1)\n",
    "    \n",
    "    #encode the categorical feature\n",
    "    cate_columns = ['weekday', 'hour', 'region','city', 'adexchange', 'slotvisibility',\n",
    "                   'slotformat', 'creative', 'keypage','advertiser', 'OS', 'Browser']\n",
    "    data = pd.get_dummies(data, columns=cate_columns)\n",
    "    \n",
    "    #scale the numerical feature\n",
    "    numeric_cols=['slotwidth', 'slotheight', 'slotprice','slotsize']\n",
    "    scaler = MinMaxScaler()\n",
    "    data[numeric_cols] = pd.DataFrame(scaler.fit_transform(data[numeric_cols]))\n",
    "    \n",
    "    #split the train, dev, test set\n",
    "    m_train = train.shape[0]\n",
    "    m_dev = dev.shape[0]\n",
    "    m_test = test.shape[0]\n",
    "    \n",
    "    train = data[:m_train]\n",
    "    dev = data[m_train:m_train+m_dev]\n",
    "    test = data[m_train+m_dev:]\n",
    "    \n",
    "    #split the features and the labels\n",
    "    x_train = train.drop(['click'], axis=1)\n",
    "    y_train = pd.DataFrame(train['click'])\n",
    "    \n",
    "    x_dev = dev.drop(['click'], axis=1)\n",
    "    y_dev = pd.DataFrame(dev['click'])\n",
    "    \n",
    "    x_test = test.drop(['click'], axis=1)\n",
    "    \n",
    "    return (x_train, y_train), (x_dev, y_dev), x_test"
   ]
  },
  {
   "cell_type": "code",
   "execution_count": 6,
   "metadata": {
    "collapsed": true
   },
   "outputs": [],
   "source": [
    "def downsample(x, y, ratio, seed):\n",
    "    data = x\n",
    "    data['click'] = y\n",
    "    majority = data[data.click == 0]\n",
    "    minority = data[data.click == 1]\n",
    "    \n",
    "    m_resample = int(minority.shape[0] / ratio) - minority.shape[0]\n",
    "    \n",
    "    majority_downsampled = resample(majority, replace=False, n_samples = m_resample, random_state=seed)\n",
    "    \n",
    "    data_downsampled = pd.concat([minority, majority_downsampled])\n",
    "    \n",
    "    x_train = data_downsampled.drop(['click'], axis=1)\n",
    "    y_train = data_downsampled['click'].values.ravel()\n",
    "    \n",
    "    \n",
    "    \n",
    "    down_ratio = majority_downsampled.shape[0] / majority.shape[0]\n",
    "    \n",
    "    return x_train, y_train, down_ratio  "
   ]
  },
  {
   "cell_type": "markdown",
   "metadata": {},
   "source": [
    "# process and under-sample data"
   ]
  },
  {
   "cell_type": "code",
   "execution_count": 7,
   "metadata": {
    "collapsed": true
   },
   "outputs": [],
   "source": [
    "train, dev, test = preprocess(train_data, dev_data, test_data)"
   ]
  },
  {
   "cell_type": "code",
   "execution_count": 8,
   "metadata": {
    "collapsed": true
   },
   "outputs": [],
   "source": [
    "x_train, y_train = train\n",
    "x_dev, y_dev = dev\n",
    "x_test = test"
   ]
  },
  {
   "cell_type": "code",
   "execution_count": 9,
   "metadata": {
    "collapsed": true
   },
   "outputs": [],
   "source": [
    "x_train_sampled, y_train_sampled, down_ratio = downsample(x_train, y_train, ratio=0.3, seed=3693)"
   ]
  },
  {
   "cell_type": "markdown",
   "metadata": {},
   "source": [
    "# LR"
   ]
  },
  {
   "cell_type": "code",
   "execution_count": 10,
   "metadata": {},
   "outputs": [
    {
     "data": {
      "text/plain": [
       "LogisticRegression(C=0.2, class_weight='balanced', dual=False,\n",
       "          fit_intercept=True, intercept_scaling=1, max_iter=100,\n",
       "          multi_class='ovr', n_jobs=1, penalty='l1', random_state=None,\n",
       "          solver='liblinear', tol=0.0001, verbose=0, warm_start=False)"
      ]
     },
     "execution_count": 10,
     "metadata": {},
     "output_type": "execute_result"
    }
   ],
   "source": [
    "lr = LogisticRegression(class_weight='balanced', C=0.2, penalty='l1')\n",
    "lr.fit(x_train_sampled, y_train_sampled)"
   ]
  },
  {
   "cell_type": "code",
   "execution_count": 11,
   "metadata": {},
   "outputs": [
    {
     "name": "stdout",
     "output_type": "stream",
     "text": [
      "auc:0.8480463063937591\n",
      "logloss:0.005759289109539074\n"
     ]
    }
   ],
   "source": [
    "pred_l = lr.predict_proba(x_dev)[:,1]\n",
    "pred_l = pred_l / (pred_l + (1-pred_l) / down_ratio)\n",
    "print('auc:' + str(metrics.roc_auc_score(y_score=pred_l, y_true=y_dev.values.ravel())))\n",
    "print('logloss:' + str(metrics.log_loss(y_pred=pred_l, y_true=y_dev.values.ravel())))"
   ]
  },
  {
   "cell_type": "code",
   "execution_count": 48,
   "metadata": {
    "collapsed": true
   },
   "outputs": [],
   "source": [
    "result = pd.DataFrame(pred_l)\n",
    "result.to_csv('../prediction/pred_dev_l.csv', index_label=False)"
   ]
  },
  {
   "cell_type": "markdown",
   "metadata": {},
   "source": [
    "# GDBT"
   ]
  },
  {
   "cell_type": "code",
   "execution_count": 12,
   "metadata": {
    "collapsed": true
   },
   "outputs": [],
   "source": [
    "lgb_params = {}\n",
    "lgb_params['learning_rate'] = 0.05\n",
    "lgb_params['n_estimators'] = 1000\n",
    "lgb_params['subsample'] = 0.6\n",
    "lgb_params['colsample_bytree'] = 0.6\n",
    "lgb_params['max_depth'] = 19\n",
    "lgb_params['min_child_weight'] = 1"
   ]
  },
  {
   "cell_type": "code",
   "execution_count": 13,
   "metadata": {},
   "outputs": [
    {
     "name": "stdout",
     "output_type": "stream",
     "text": [
      "[1]\tvalid_0's auc: 0.779452\n",
      "Training until validation scores don't improve for 50 rounds.\n",
      "[2]\tvalid_0's auc: 0.820624\n",
      "[3]\tvalid_0's auc: 0.821607\n",
      "[4]\tvalid_0's auc: 0.829767\n",
      "[5]\tvalid_0's auc: 0.829867\n",
      "[6]\tvalid_0's auc: 0.843367\n",
      "[7]\tvalid_0's auc: 0.840773\n",
      "[8]\tvalid_0's auc: 0.843592\n",
      "[9]\tvalid_0's auc: 0.845412\n",
      "[10]\tvalid_0's auc: 0.845196\n",
      "[11]\tvalid_0's auc: 0.84867\n",
      "[12]\tvalid_0's auc: 0.853399\n",
      "[13]\tvalid_0's auc: 0.853511\n",
      "[14]\tvalid_0's auc: 0.8531\n",
      "[15]\tvalid_0's auc: 0.855533\n",
      "[16]\tvalid_0's auc: 0.85567\n",
      "[17]\tvalid_0's auc: 0.856217\n",
      "[18]\tvalid_0's auc: 0.857587\n",
      "[19]\tvalid_0's auc: 0.856769\n",
      "[20]\tvalid_0's auc: 0.856996\n",
      "[21]\tvalid_0's auc: 0.859243\n",
      "[22]\tvalid_0's auc: 0.858366\n",
      "[23]\tvalid_0's auc: 0.860605\n",
      "[24]\tvalid_0's auc: 0.86088\n",
      "[25]\tvalid_0's auc: 0.861739\n",
      "[26]\tvalid_0's auc: 0.863182\n",
      "[27]\tvalid_0's auc: 0.863997\n",
      "[28]\tvalid_0's auc: 0.864211\n",
      "[29]\tvalid_0's auc: 0.865197\n",
      "[30]\tvalid_0's auc: 0.863549\n",
      "[31]\tvalid_0's auc: 0.86471\n",
      "[32]\tvalid_0's auc: 0.864922\n",
      "[33]\tvalid_0's auc: 0.864814\n",
      "[34]\tvalid_0's auc: 0.865692\n",
      "[35]\tvalid_0's auc: 0.865893\n",
      "[36]\tvalid_0's auc: 0.865305\n",
      "[37]\tvalid_0's auc: 0.865743\n",
      "[38]\tvalid_0's auc: 0.867353\n",
      "[39]\tvalid_0's auc: 0.867679\n",
      "[40]\tvalid_0's auc: 0.868307\n",
      "[41]\tvalid_0's auc: 0.867721\n",
      "[42]\tvalid_0's auc: 0.8685\n",
      "[43]\tvalid_0's auc: 0.869066\n",
      "[44]\tvalid_0's auc: 0.86905\n",
      "[45]\tvalid_0's auc: 0.869852\n",
      "[46]\tvalid_0's auc: 0.869638\n",
      "[47]\tvalid_0's auc: 0.869798\n",
      "[48]\tvalid_0's auc: 0.870469\n",
      "[49]\tvalid_0's auc: 0.870432\n",
      "[50]\tvalid_0's auc: 0.869888\n",
      "[51]\tvalid_0's auc: 0.869602\n",
      "[52]\tvalid_0's auc: 0.869413\n",
      "[53]\tvalid_0's auc: 0.870341\n",
      "[54]\tvalid_0's auc: 0.870141\n",
      "[55]\tvalid_0's auc: 0.870559\n",
      "[56]\tvalid_0's auc: 0.870769\n",
      "[57]\tvalid_0's auc: 0.871088\n",
      "[58]\tvalid_0's auc: 0.871954\n",
      "[59]\tvalid_0's auc: 0.872313\n",
      "[60]\tvalid_0's auc: 0.871969\n",
      "[61]\tvalid_0's auc: 0.8727\n",
      "[62]\tvalid_0's auc: 0.872763\n",
      "[63]\tvalid_0's auc: 0.872231\n",
      "[64]\tvalid_0's auc: 0.871919\n",
      "[65]\tvalid_0's auc: 0.871449\n",
      "[66]\tvalid_0's auc: 0.871742\n",
      "[67]\tvalid_0's auc: 0.871553\n",
      "[68]\tvalid_0's auc: 0.871931\n",
      "[69]\tvalid_0's auc: 0.872502\n",
      "[70]\tvalid_0's auc: 0.873202\n",
      "[71]\tvalid_0's auc: 0.873085\n",
      "[72]\tvalid_0's auc: 0.873786\n",
      "[73]\tvalid_0's auc: 0.873486\n",
      "[74]\tvalid_0's auc: 0.874268\n",
      "[75]\tvalid_0's auc: 0.874685\n",
      "[76]\tvalid_0's auc: 0.874803\n",
      "[77]\tvalid_0's auc: 0.874646\n",
      "[78]\tvalid_0's auc: 0.874551\n",
      "[79]\tvalid_0's auc: 0.874749\n",
      "[80]\tvalid_0's auc: 0.874891\n",
      "[81]\tvalid_0's auc: 0.875032\n",
      "[82]\tvalid_0's auc: 0.87453\n",
      "[83]\tvalid_0's auc: 0.874391\n",
      "[84]\tvalid_0's auc: 0.873982\n",
      "[85]\tvalid_0's auc: 0.873554\n",
      "[86]\tvalid_0's auc: 0.873883\n",
      "[87]\tvalid_0's auc: 0.873855\n",
      "[88]\tvalid_0's auc: 0.873844\n",
      "[89]\tvalid_0's auc: 0.873871\n",
      "[90]\tvalid_0's auc: 0.874127\n",
      "[91]\tvalid_0's auc: 0.874251\n",
      "[92]\tvalid_0's auc: 0.874366\n",
      "[93]\tvalid_0's auc: 0.87502\n",
      "[94]\tvalid_0's auc: 0.875032\n",
      "[95]\tvalid_0's auc: 0.875043\n",
      "[96]\tvalid_0's auc: 0.875929\n",
      "[97]\tvalid_0's auc: 0.875743\n",
      "[98]\tvalid_0's auc: 0.875724\n",
      "[99]\tvalid_0's auc: 0.875834\n",
      "[100]\tvalid_0's auc: 0.875924\n",
      "[101]\tvalid_0's auc: 0.875783\n",
      "[102]\tvalid_0's auc: 0.875562\n",
      "[103]\tvalid_0's auc: 0.875431\n",
      "[104]\tvalid_0's auc: 0.874791\n",
      "[105]\tvalid_0's auc: 0.875129\n",
      "[106]\tvalid_0's auc: 0.875361\n",
      "[107]\tvalid_0's auc: 0.875926\n",
      "[108]\tvalid_0's auc: 0.875628\n",
      "[109]\tvalid_0's auc: 0.87617\n",
      "[110]\tvalid_0's auc: 0.876108\n",
      "[111]\tvalid_0's auc: 0.876282\n",
      "[112]\tvalid_0's auc: 0.875853\n",
      "[113]\tvalid_0's auc: 0.876391\n",
      "[114]\tvalid_0's auc: 0.876214\n",
      "[115]\tvalid_0's auc: 0.875792\n",
      "[116]\tvalid_0's auc: 0.875961\n",
      "[117]\tvalid_0's auc: 0.875852\n",
      "[118]\tvalid_0's auc: 0.875721\n",
      "[119]\tvalid_0's auc: 0.876037\n",
      "[120]\tvalid_0's auc: 0.876085\n",
      "[121]\tvalid_0's auc: 0.876085\n",
      "[122]\tvalid_0's auc: 0.876272\n",
      "[123]\tvalid_0's auc: 0.876223\n",
      "[124]\tvalid_0's auc: 0.876268\n",
      "[125]\tvalid_0's auc: 0.876481\n",
      "[126]\tvalid_0's auc: 0.877121\n",
      "[127]\tvalid_0's auc: 0.876974\n",
      "[128]\tvalid_0's auc: 0.877115\n",
      "[129]\tvalid_0's auc: 0.877395\n",
      "[130]\tvalid_0's auc: 0.877444\n",
      "[131]\tvalid_0's auc: 0.877625\n",
      "[132]\tvalid_0's auc: 0.877433\n",
      "[133]\tvalid_0's auc: 0.87753\n",
      "[134]\tvalid_0's auc: 0.87755\n",
      "[135]\tvalid_0's auc: 0.877558\n",
      "[136]\tvalid_0's auc: 0.877012\n",
      "[137]\tvalid_0's auc: 0.876984\n",
      "[138]\tvalid_0's auc: 0.877602\n",
      "[139]\tvalid_0's auc: 0.877332\n",
      "[140]\tvalid_0's auc: 0.877309\n",
      "[141]\tvalid_0's auc: 0.877203\n",
      "[142]\tvalid_0's auc: 0.87707\n",
      "[143]\tvalid_0's auc: 0.877066\n",
      "[144]\tvalid_0's auc: 0.876919\n",
      "[145]\tvalid_0's auc: 0.877043\n",
      "[146]\tvalid_0's auc: 0.876795\n",
      "[147]\tvalid_0's auc: 0.876701\n",
      "[148]\tvalid_0's auc: 0.875935\n",
      "[149]\tvalid_0's auc: 0.876477\n",
      "[150]\tvalid_0's auc: 0.876264\n",
      "[151]\tvalid_0's auc: 0.875891\n",
      "[152]\tvalid_0's auc: 0.875696\n",
      "[153]\tvalid_0's auc: 0.875302\n",
      "[154]\tvalid_0's auc: 0.875368\n",
      "[155]\tvalid_0's auc: 0.87499\n",
      "[156]\tvalid_0's auc: 0.874852\n",
      "[157]\tvalid_0's auc: 0.874829\n",
      "[158]\tvalid_0's auc: 0.874675\n",
      "[159]\tvalid_0's auc: 0.874239\n",
      "[160]\tvalid_0's auc: 0.874011\n",
      "[161]\tvalid_0's auc: 0.873999\n",
      "[162]\tvalid_0's auc: 0.873942\n",
      "[163]\tvalid_0's auc: 0.873772\n",
      "[164]\tvalid_0's auc: 0.873638\n",
      "[165]\tvalid_0's auc: 0.873401\n",
      "[166]\tvalid_0's auc: 0.873336\n",
      "[167]\tvalid_0's auc: 0.873157\n",
      "[168]\tvalid_0's auc: 0.872899\n",
      "[169]\tvalid_0's auc: 0.872571\n",
      "[170]\tvalid_0's auc: 0.872595\n",
      "[171]\tvalid_0's auc: 0.872741\n",
      "[172]\tvalid_0's auc: 0.872885\n",
      "[173]\tvalid_0's auc: 0.87279\n",
      "[174]\tvalid_0's auc: 0.872912\n",
      "[175]\tvalid_0's auc: 0.872813\n",
      "[176]\tvalid_0's auc: 0.87253\n",
      "[177]\tvalid_0's auc: 0.872416\n",
      "[178]\tvalid_0's auc: 0.87222\n",
      "[179]\tvalid_0's auc: 0.872271\n",
      "[180]\tvalid_0's auc: 0.872419\n",
      "[181]\tvalid_0's auc: 0.872591\n",
      "Early stopping, best iteration is:\n",
      "[131]\tvalid_0's auc: 0.877625\n"
     ]
    },
    {
     "data": {
      "text/plain": [
       "LGBMClassifier(boosting_type='gbdt', class_weight='balanced',\n",
       "        colsample_bytree=0.6, learning_rate=0.05, max_depth=19,\n",
       "        min_child_samples=20, min_child_weight=1, min_split_gain=0.0,\n",
       "        n_estimators=1000, n_jobs=-1, num_leaves=31, objective=None,\n",
       "        random_state=None, reg_alpha=0.0, reg_lambda=0.0, silent=True,\n",
       "        subsample=0.6, subsample_for_bin=200000, subsample_freq=1)"
      ]
     },
     "execution_count": 13,
     "metadata": {},
     "output_type": "execute_result"
    }
   ],
   "source": [
    "lgb = LGBMClassifier(**lgb_params, class_weight='balanced')\n",
    "lgb.fit(x_train_sampled, y_train_sampled, early_stopping_rounds=50, eval_metric='auc', eval_set=[(x_dev, y_dev.values.ravel())])"
   ]
  },
  {
   "cell_type": "code",
   "execution_count": 14,
   "metadata": {},
   "outputs": [
    {
     "name": "stdout",
     "output_type": "stream",
     "text": [
      "auc:0.8776247820651326\n",
      "logloss:0.0043774014569099235\n"
     ]
    }
   ],
   "source": [
    "pred_lgb = lgb.predict_proba(x_dev)[:,1]\n",
    "pred_lgb = pred_lgb / (pred_lgb + (1-pred_lgb) / down_ratio)\n",
    "print('auc:' + str(metrics.roc_auc_score(y_score=pred_lgb, y_true=y_dev.values.ravel())))\n",
    "print('logloss:' + str(metrics.log_loss(y_pred=pred_lgb, y_true=y_dev.values.ravel())))"
   ]
  },
  {
   "cell_type": "code",
   "execution_count": 15,
   "metadata": {
    "collapsed": true
   },
   "outputs": [],
   "source": [
    "pred_test_lgb = lgb.predict_proba(x_test)[:,1]\n",
    "pred_test_lgb = pred_test_lgb / (pred_test_lgb + (1-pred_test_lgb) / down_ratio)"
   ]
  },
  {
   "cell_type": "markdown",
   "metadata": {},
   "source": [
    "# GDBT + LR"
   ]
  },
  {
   "cell_type": "code",
   "execution_count": 16,
   "metadata": {
    "collapsed": true
   },
   "outputs": [],
   "source": [
    "gdbt_lr_params = {}\n",
    "gdbt_lr_params['learning_rate'] = 0.05\n",
    "gdbt_lr_params['n_estimators'] = 1000\n",
    "gdbt_lr_params['subsample'] = 0.6\n",
    "gdbt_lr_params['colsample_bytree'] = 0.6\n",
    "gdbt_lr_params['max_depth'] = 19\n",
    "gdbt_lr_params['min_child_weight'] = 1\n",
    "gdbt_lr_params['num_leaves'] = 25"
   ]
  },
  {
   "cell_type": "code",
   "execution_count": 18,
   "metadata": {},
   "outputs": [
    {
     "name": "stdout",
     "output_type": "stream",
     "text": [
      "[1]\tvalid_0's auc: 0.780917\n",
      "Training until validation scores don't improve for 50 rounds.\n",
      "[2]\tvalid_0's auc: 0.819247\n",
      "[3]\tvalid_0's auc: 0.820068\n",
      "[4]\tvalid_0's auc: 0.82838\n",
      "[5]\tvalid_0's auc: 0.828843\n",
      "[6]\tvalid_0's auc: 0.840768\n",
      "[7]\tvalid_0's auc: 0.838267\n",
      "[8]\tvalid_0's auc: 0.842315\n",
      "[9]\tvalid_0's auc: 0.844738\n",
      "[10]\tvalid_0's auc: 0.844251\n",
      "[11]\tvalid_0's auc: 0.848542\n",
      "[12]\tvalid_0's auc: 0.853678\n",
      "[13]\tvalid_0's auc: 0.852971\n",
      "[14]\tvalid_0's auc: 0.851344\n",
      "[15]\tvalid_0's auc: 0.852538\n",
      "[16]\tvalid_0's auc: 0.851469\n",
      "[17]\tvalid_0's auc: 0.853238\n",
      "[18]\tvalid_0's auc: 0.852863\n",
      "[19]\tvalid_0's auc: 0.852753\n",
      "[20]\tvalid_0's auc: 0.853379\n",
      "[21]\tvalid_0's auc: 0.855981\n",
      "[22]\tvalid_0's auc: 0.854863\n",
      "[23]\tvalid_0's auc: 0.857665\n",
      "[24]\tvalid_0's auc: 0.858037\n",
      "[25]\tvalid_0's auc: 0.858978\n",
      "[26]\tvalid_0's auc: 0.860419\n",
      "[27]\tvalid_0's auc: 0.861714\n",
      "[28]\tvalid_0's auc: 0.861919\n",
      "[29]\tvalid_0's auc: 0.861626\n",
      "[30]\tvalid_0's auc: 0.860253\n",
      "[31]\tvalid_0's auc: 0.861682\n",
      "[32]\tvalid_0's auc: 0.862459\n",
      "[33]\tvalid_0's auc: 0.86198\n",
      "[34]\tvalid_0's auc: 0.863778\n",
      "[35]\tvalid_0's auc: 0.864294\n",
      "[36]\tvalid_0's auc: 0.863439\n",
      "[37]\tvalid_0's auc: 0.8647\n",
      "[38]\tvalid_0's auc: 0.86622\n",
      "[39]\tvalid_0's auc: 0.866302\n",
      "[40]\tvalid_0's auc: 0.866804\n",
      "[41]\tvalid_0's auc: 0.866241\n",
      "[42]\tvalid_0's auc: 0.86736\n",
      "[43]\tvalid_0's auc: 0.868011\n",
      "[44]\tvalid_0's auc: 0.867792\n",
      "[45]\tvalid_0's auc: 0.868474\n",
      "[46]\tvalid_0's auc: 0.867629\n",
      "[47]\tvalid_0's auc: 0.867376\n",
      "[48]\tvalid_0's auc: 0.868084\n",
      "[49]\tvalid_0's auc: 0.868378\n",
      "[50]\tvalid_0's auc: 0.867894\n",
      "[51]\tvalid_0's auc: 0.86759\n",
      "[52]\tvalid_0's auc: 0.867829\n",
      "[53]\tvalid_0's auc: 0.868341\n",
      "[54]\tvalid_0's auc: 0.868932\n",
      "[55]\tvalid_0's auc: 0.869017\n",
      "[56]\tvalid_0's auc: 0.868986\n",
      "[57]\tvalid_0's auc: 0.86893\n",
      "[58]\tvalid_0's auc: 0.869375\n",
      "[59]\tvalid_0's auc: 0.86936\n",
      "[60]\tvalid_0's auc: 0.869013\n",
      "[61]\tvalid_0's auc: 0.86996\n",
      "[62]\tvalid_0's auc: 0.869855\n",
      "[63]\tvalid_0's auc: 0.869716\n",
      "[64]\tvalid_0's auc: 0.869624\n",
      "[65]\tvalid_0's auc: 0.869232\n",
      "[66]\tvalid_0's auc: 0.86954\n",
      "[67]\tvalid_0's auc: 0.86959\n",
      "[68]\tvalid_0's auc: 0.870062\n",
      "[69]\tvalid_0's auc: 0.870493\n",
      "[70]\tvalid_0's auc: 0.871231\n",
      "[71]\tvalid_0's auc: 0.871064\n",
      "[72]\tvalid_0's auc: 0.87158\n",
      "[73]\tvalid_0's auc: 0.871179\n",
      "[74]\tvalid_0's auc: 0.872227\n",
      "[75]\tvalid_0's auc: 0.872544\n",
      "[76]\tvalid_0's auc: 0.872633\n",
      "[77]\tvalid_0's auc: 0.872708\n",
      "[78]\tvalid_0's auc: 0.872887\n",
      "[79]\tvalid_0's auc: 0.873064\n",
      "[80]\tvalid_0's auc: 0.873174\n",
      "[81]\tvalid_0's auc: 0.873229\n",
      "[82]\tvalid_0's auc: 0.873245\n",
      "[83]\tvalid_0's auc: 0.873344\n",
      "[84]\tvalid_0's auc: 0.873047\n",
      "[85]\tvalid_0's auc: 0.872572\n",
      "[86]\tvalid_0's auc: 0.872825\n",
      "[87]\tvalid_0's auc: 0.87326\n",
      "[88]\tvalid_0's auc: 0.873389\n",
      "[89]\tvalid_0's auc: 0.873991\n",
      "[90]\tvalid_0's auc: 0.874604\n",
      "[91]\tvalid_0's auc: 0.874362\n",
      "[92]\tvalid_0's auc: 0.874638\n",
      "[93]\tvalid_0's auc: 0.874865\n",
      "[94]\tvalid_0's auc: 0.875111\n",
      "[95]\tvalid_0's auc: 0.875254\n",
      "[96]\tvalid_0's auc: 0.875792\n",
      "[97]\tvalid_0's auc: 0.875944\n",
      "[98]\tvalid_0's auc: 0.875731\n",
      "[99]\tvalid_0's auc: 0.875932\n",
      "[100]\tvalid_0's auc: 0.876256\n",
      "[101]\tvalid_0's auc: 0.876698\n",
      "[102]\tvalid_0's auc: 0.876271\n",
      "[103]\tvalid_0's auc: 0.875746\n",
      "[104]\tvalid_0's auc: 0.875637\n",
      "[105]\tvalid_0's auc: 0.875583\n",
      "[106]\tvalid_0's auc: 0.875598\n",
      "[107]\tvalid_0's auc: 0.87567\n",
      "[108]\tvalid_0's auc: 0.875978\n",
      "[109]\tvalid_0's auc: 0.876134\n",
      "[110]\tvalid_0's auc: 0.876315\n",
      "[111]\tvalid_0's auc: 0.87602\n",
      "[112]\tvalid_0's auc: 0.875731\n",
      "[113]\tvalid_0's auc: 0.876149\n",
      "[114]\tvalid_0's auc: 0.876446\n",
      "[115]\tvalid_0's auc: 0.875948\n",
      "[116]\tvalid_0's auc: 0.875908\n",
      "[117]\tvalid_0's auc: 0.875825\n",
      "[118]\tvalid_0's auc: 0.875715\n",
      "[119]\tvalid_0's auc: 0.875986\n",
      "[120]\tvalid_0's auc: 0.875888\n",
      "[121]\tvalid_0's auc: 0.87588\n",
      "[122]\tvalid_0's auc: 0.875908\n",
      "[123]\tvalid_0's auc: 0.876009\n",
      "[124]\tvalid_0's auc: 0.875926\n",
      "[125]\tvalid_0's auc: 0.875995\n",
      "[126]\tvalid_0's auc: 0.876055\n",
      "[127]\tvalid_0's auc: 0.875977\n",
      "[128]\tvalid_0's auc: 0.875941\n",
      "[129]\tvalid_0's auc: 0.875795\n",
      "[130]\tvalid_0's auc: 0.875477\n",
      "[131]\tvalid_0's auc: 0.87572\n",
      "[132]\tvalid_0's auc: 0.87574\n",
      "[133]\tvalid_0's auc: 0.875599\n",
      "[134]\tvalid_0's auc: 0.875413\n",
      "[135]\tvalid_0's auc: 0.875002\n",
      "[136]\tvalid_0's auc: 0.874745\n",
      "[137]\tvalid_0's auc: 0.874663\n",
      "[138]\tvalid_0's auc: 0.875424\n",
      "[139]\tvalid_0's auc: 0.875103\n",
      "[140]\tvalid_0's auc: 0.875209\n",
      "[141]\tvalid_0's auc: 0.875167\n",
      "[142]\tvalid_0's auc: 0.875372\n",
      "[143]\tvalid_0's auc: 0.875429\n",
      "[144]\tvalid_0's auc: 0.875256\n",
      "[145]\tvalid_0's auc: 0.875252\n",
      "[146]\tvalid_0's auc: 0.875153\n",
      "[147]\tvalid_0's auc: 0.875198\n",
      "[148]\tvalid_0's auc: 0.875389\n",
      "[149]\tvalid_0's auc: 0.87512\n",
      "[150]\tvalid_0's auc: 0.875245\n",
      "[151]\tvalid_0's auc: 0.875028\n",
      "Early stopping, best iteration is:\n",
      "[101]\tvalid_0's auc: 0.876698\n"
     ]
    },
    {
     "data": {
      "text/plain": [
       "LGBMClassifier(boosting_type='gbdt', class_weight='balanced',\n",
       "        colsample_bytree=0.6, learning_rate=0.05, max_depth=19,\n",
       "        min_child_samples=20, min_child_weight=1, min_split_gain=0.0,\n",
       "        n_estimators=1000, n_jobs=-1, num_leaves=25, objective=None,\n",
       "        random_state=None, reg_alpha=0.0, reg_lambda=0.0, silent=True,\n",
       "        subsample=0.6, subsample_for_bin=200000, subsample_freq=1)"
      ]
     },
     "execution_count": 18,
     "metadata": {},
     "output_type": "execute_result"
    }
   ],
   "source": [
    "gdbt = LGBMClassifier(**gdbt_lr_params, class_weight='balanced')\n",
    "gdbt.fit(x_train_sampled, y_train_sampled, early_stopping_rounds=50, eval_metric='auc', eval_set=[(x_dev, y_dev.values.ravel())])"
   ]
  },
  {
   "cell_type": "code",
   "execution_count": 19,
   "metadata": {
    "collapsed": true
   },
   "outputs": [],
   "source": [
    "x_train_gdbt = gdbt.apply(x_train_sampled)\n",
    "x_dev_gdbt = gdbt.apply(x_dev)\n",
    "x_test_gdbt = gdbt.apply(x_test)"
   ]
  },
  {
   "cell_type": "code",
   "execution_count": 20,
   "metadata": {
    "collapsed": true
   },
   "outputs": [],
   "source": [
    "x_train_gdbt = pd.DataFrame(x_train_gdbt)\n",
    "x_dev_gdbt = pd.DataFrame(x_dev_gdbt)\n",
    "x_test_gdbt = pd.DataFrame(x_test_gdbt)"
   ]
  },
  {
   "cell_type": "code",
   "execution_count": 21,
   "metadata": {
    "collapsed": true
   },
   "outputs": [],
   "source": [
    "data = pd.concat([x_train_gdbt, x_dev_gdbt, x_test_gdbt])"
   ]
  },
  {
   "cell_type": "code",
   "execution_count": 22,
   "metadata": {
    "collapsed": true
   },
   "outputs": [],
   "source": [
    "col = data.columns.tolist()"
   ]
  },
  {
   "cell_type": "code",
   "execution_count": 23,
   "metadata": {
    "collapsed": true
   },
   "outputs": [],
   "source": [
    "data = pd.get_dummies(data, columns=col)"
   ]
  },
  {
   "cell_type": "code",
   "execution_count": 24,
   "metadata": {
    "collapsed": true
   },
   "outputs": [],
   "source": [
    "x_train_new = data[:x_train_gdbt.shape[0]]\n",
    "x_dev_new = data[x_train_gdbt.shape[0]:x_train_gdbt.shape[0]+x_dev_gdbt.shape[0]]\n",
    "x_test_new = data[x_train_gdbt.shape[0]+x_dev_gdbt.shape[0]:]"
   ]
  },
  {
   "cell_type": "code",
   "execution_count": 25,
   "metadata": {},
   "outputs": [
    {
     "data": {
      "text/plain": [
       "LogisticRegression(C=0.015, class_weight='balanced', dual=False,\n",
       "          fit_intercept=True, intercept_scaling=1, max_iter=100,\n",
       "          multi_class='ovr', n_jobs=1, penalty='l2', random_state=None,\n",
       "          solver='liblinear', tol=0.0001, verbose=0, warm_start=False)"
      ]
     },
     "execution_count": 25,
     "metadata": {},
     "output_type": "execute_result"
    }
   ],
   "source": [
    "lr = LogisticRegression(C=0.015, class_weight='balanced')\n",
    "lr.fit(x_train_new, y_train_sampled)"
   ]
  },
  {
   "cell_type": "code",
   "execution_count": 26,
   "metadata": {},
   "outputs": [
    {
     "name": "stdout",
     "output_type": "stream",
     "text": [
      "auc:0.8778242293663686\n",
      "logloss:0.004327498123507622\n"
     ]
    }
   ],
   "source": [
    "pred_gl = lr.predict_proba(x_dev_new)[:,1]\n",
    "pred_gl = pred_gl / (pred_gl + (1-pred_gl) / down_ratio)\n",
    "print('auc:' + str(metrics.roc_auc_score(y_score=pred_gl, y_true=y_dev.values.ravel())))\n",
    "print('logloss:' + str(metrics.log_loss(y_pred=pred_gl, y_true=y_dev.values.ravel())))"
   ]
  },
  {
   "cell_type": "code",
   "execution_count": 27,
   "metadata": {
    "collapsed": true
   },
   "outputs": [],
   "source": [
    "pred_test_gl = lr.predict_proba(x_test_new)[:,1]\n",
    "pred_test_gl = pred_test_gl / (pred_test_gl + (1-pred_test_gl) / down_ratio)"
   ]
  },
  {
   "cell_type": "markdown",
   "metadata": {},
   "source": [
    "# GBDT + FM"
   ]
  },
  {
   "cell_type": "code",
   "execution_count": 28,
   "metadata": {
    "collapsed": true
   },
   "outputs": [],
   "source": [
    "yTrain = y_train_sampled.copy()"
   ]
  },
  {
   "cell_type": "code",
   "execution_count": 29,
   "metadata": {
    "collapsed": true
   },
   "outputs": [],
   "source": [
    "yTrain[yTrain == 0] = -1"
   ]
  },
  {
   "cell_type": "code",
   "execution_count": 30,
   "metadata": {
    "collapsed": true
   },
   "outputs": [],
   "source": [
    "xTrain = sp.csc_matrix(x_train_new)\n",
    "xDev = sp.csc_matrix(x_dev_new)"
   ]
  },
  {
   "cell_type": "code",
   "execution_count": 31,
   "metadata": {},
   "outputs": [
    {
     "data": {
      "text/plain": [
       "FMClassification(init_stdev=0.1, l2_reg=None, l2_reg_V=1500, l2_reg_w=3000,\n",
       "         n_iter=200, random_state=123, rank=7)"
      ]
     },
     "execution_count": 31,
     "metadata": {},
     "output_type": "execute_result"
    }
   ],
   "source": [
    "fm = als.FMClassification(n_iter=200, rank=7, l2_reg_w=3000, l2_reg_V=1500)\n",
    "fm.fit(xTrain, yTrain)"
   ]
  },
  {
   "cell_type": "code",
   "execution_count": 32,
   "metadata": {},
   "outputs": [
    {
     "name": "stdout",
     "output_type": "stream",
     "text": [
      "auc:0.8779125230803223\n",
      "logloss:0.005200755491462952\n"
     ]
    }
   ],
   "source": [
    "pred_gf = fm.predict_proba(xDev)\n",
    "pred_gf = pred_gf / (pred_gf + (1-pred_gf) / down_ratio)\n",
    "print('auc:' + str(metrics.roc_auc_score(y_score=pred_gf, y_true=y_dev.values.ravel())))\n",
    "print('logloss:' + str(metrics.log_loss(y_pred=pred_gf, y_true=y_dev.values.ravel())))"
   ]
  },
  {
   "cell_type": "markdown",
   "metadata": {},
   "source": [
    "# ensemble model"
   ]
  },
  {
   "cell_type": "code",
   "execution_count": 33,
   "metadata": {
    "collapsed": true
   },
   "outputs": [],
   "source": [
    "pred_esm = pred_lgb * 0.5 + pred_gl * 0.5"
   ]
  },
  {
   "cell_type": "code",
   "execution_count": 34,
   "metadata": {},
   "outputs": [
    {
     "name": "stdout",
     "output_type": "stream",
     "text": [
      "auc:0.8793282460376302\n",
      "logloss:0.004327581966505735\n"
     ]
    }
   ],
   "source": [
    "print('auc:' + str(metrics.roc_auc_score(y_score=pred_esm, y_true=y_dev.values.ravel())))\n",
    "print('logloss:' + str(metrics.log_loss(y_pred=pred_esm, y_true=y_dev.values.ravel())))"
   ]
  },
  {
   "cell_type": "code",
   "execution_count": 35,
   "metadata": {
    "collapsed": true
   },
   "outputs": [],
   "source": [
    "result = pd.DataFrame(pred_esm)\n",
    "result.to_csv('../prediction/pred_dev_esm.csv', index_label=False)"
   ]
  },
  {
   "cell_type": "markdown",
   "metadata": {},
   "source": [
    "# FM"
   ]
  },
  {
   "cell_type": "code",
   "execution_count": 33,
   "metadata": {
    "collapsed": true
   },
   "outputs": [],
   "source": [
    "yTrain = y_train_sampled.copy()\n",
    "yTrain[yTrain == 0] = -1"
   ]
  },
  {
   "cell_type": "code",
   "execution_count": 34,
   "metadata": {
    "collapsed": true
   },
   "outputs": [],
   "source": [
    "xTrain = sp.csc_matrix(x_train_sampled)\n",
    "xDev = sp.csc_matrix(x_dev)"
   ]
  },
  {
   "cell_type": "code",
   "execution_count": 35,
   "metadata": {},
   "outputs": [
    {
     "data": {
      "text/plain": [
       "FMClassification(init_stdev=0.1, l2_reg=80, l2_reg_V=80, l2_reg_w=80,\n",
       "         n_iter=1000, random_state=123, rank=2)"
      ]
     },
     "execution_count": 35,
     "metadata": {},
     "output_type": "execute_result"
    }
   ],
   "source": [
    "fm = als.FMClassification(n_iter=1000, rank=2, l2_reg=80)\n",
    "fm.fit(xTrain, yTrain)"
   ]
  },
  {
   "cell_type": "code",
   "execution_count": 36,
   "metadata": {},
   "outputs": [
    {
     "name": "stdout",
     "output_type": "stream",
     "text": [
      "auc:0.8560534965696172\n",
      "logloss:0.005247799741169467\n"
     ]
    }
   ],
   "source": [
    "pred_gf = fm.predict_proba(xDev)\n",
    "pred_gf = pred_gf / (pred_gf + (1-pred_gf) / down_ratio)\n",
    "print('auc:' + str(metrics.roc_auc_score(y_score=pred_gf, y_true=y_dev.values.ravel())))\n",
    "print('logloss:' + str(metrics.log_loss(y_pred=pred_gf, y_true=y_dev.values.ravel())))"
   ]
  },
  {
   "cell_type": "markdown",
   "metadata": {
    "collapsed": true
   },
   "source": [
    "# Test prediction"
   ]
  },
  {
   "cell_type": "code",
   "execution_count": 319,
   "metadata": {
    "collapsed": true
   },
   "outputs": [],
   "source": [
    "pred_test = pred_test_gl * 0.5 + pred_test_lgb * 0.5"
   ]
  },
  {
   "cell_type": "code",
   "execution_count": 320,
   "metadata": {
    "collapsed": true
   },
   "outputs": [],
   "source": [
    "index = test_data.bidid"
   ]
  },
  {
   "cell_type": "code",
   "execution_count": 321,
   "metadata": {
    "collapsed": true
   },
   "outputs": [],
   "source": [
    "pred_test = pd.DataFrame(pred_test, index=index)"
   ]
  },
  {
   "cell_type": "code",
   "execution_count": 322,
   "metadata": {
    "collapsed": true
   },
   "outputs": [],
   "source": [
    "pred_test.to_csv('../prediction/pred_test.csv')"
   ]
  }
 ],
 "metadata": {
  "kernelspec": {
   "display_name": "Python 3",
   "language": "python",
   "name": "python3"
  },
  "language_info": {
   "codemirror_mode": {
    "name": "ipython",
    "version": 3
   },
   "file_extension": ".py",
   "mimetype": "text/x-python",
   "name": "python",
   "nbconvert_exporter": "python",
   "pygments_lexer": "ipython3",
   "version": "3.6.2"
  }
 },
 "nbformat": 4,
 "nbformat_minor": 2
}
