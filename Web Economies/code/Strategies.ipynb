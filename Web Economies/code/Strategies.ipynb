{
 "cells": [
  {
   "cell_type": "code",
   "execution_count": 1,
   "metadata": {
    "ExecuteTime": {
     "end_time": "2018-04-03T13:48:27.304789Z",
     "start_time": "2018-04-03T13:48:26.221627Z"
    },
    "collapsed": true
   },
   "outputs": [],
   "source": [
    "import numpy as np\n",
    "import pandas as pd\n",
    "import random\n",
    "import math\n",
    "import matplotlib.pyplot as plt"
   ]
  },
  {
   "cell_type": "code",
   "execution_count": 2,
   "metadata": {
    "ExecuteTime": {
     "end_time": "2018-04-03T13:48:54.478261Z",
     "start_time": "2018-04-03T13:48:27.307287Z"
    },
    "collapsed": true
   },
   "outputs": [],
   "source": [
    "dev = pd.read_csv('../data/validation.csv')\n",
    "train = pd.read_csv('../data/train.csv')\n",
    "test = pd.read_csv('../data/test.csv')"
   ]
  },
  {
   "cell_type": "code",
   "execution_count": 3,
   "metadata": {
    "ExecuteTime": {
     "end_time": "2018-04-03T13:48:54.594540Z",
     "start_time": "2018-04-03T13:48:54.481815Z"
    },
    "collapsed": true
   },
   "outputs": [],
   "source": [
    "avgCTR = train[train['click'] == 1].shape[0] / train.shape[0]"
   ]
  },
  {
   "cell_type": "code",
   "execution_count": 4,
   "metadata": {
    "ExecuteTime": {
     "end_time": "2018-04-03T13:48:54.604201Z",
     "start_time": "2018-04-03T13:48:54.597621Z"
    },
    "collapsed": true
   },
   "outputs": [],
   "source": [
    "click = dev['click'].values.ravel()\n",
    "payprice = dev['payprice'].values.ravel()\n",
    "slotprice = dev['slotprice'].values.ravel()"
   ]
  },
  {
   "cell_type": "code",
   "execution_count": 5,
   "metadata": {
    "ExecuteTime": {
     "end_time": "2018-04-03T13:48:55.495030Z",
     "start_time": "2018-04-03T13:48:54.608652Z"
    },
    "collapsed": true
   },
   "outputs": [],
   "source": [
    "pred_gl = pd.read_csv('../prediction/pred_dev_gl.csv').values.ravel()\n",
    "pred_esm = pd.read_csv('../prediction/pred_dev_esm.csv').values.ravel()\n",
    "pred_test = pd.read_csv('../prediction/pred_test.csv', index_col='bidid')"
   ]
  },
  {
   "cell_type": "code",
   "execution_count": 21,
   "metadata": {
    "ExecuteTime": {
     "end_time": "2018-04-03T13:54:49.188805Z",
     "start_time": "2018-04-03T13:54:48.784065Z"
    }
   },
   "outputs": [],
   "source": [
    "y_pred_valid = pd.read_csv('../../y_pred_valid.csv', index_col=0).values\n",
    "y_pred_test = pd.read_csv('../../y_pred_test.csv', index_col=0).values"
   ]
  },
  {
   "cell_type": "code",
   "execution_count": 11,
   "metadata": {
    "ExecuteTime": {
     "end_time": "2018-04-03T13:50:47.356676Z",
     "start_time": "2018-04-03T13:50:47.348049Z"
    }
   },
   "outputs": [
    {
     "data": {
      "text/plain": [
       "array([[0.00033939],\n",
       "       [0.00031637],\n",
       "       [0.00036191],\n",
       "       ...,\n",
       "       [0.00091061],\n",
       "       [0.00049785],\n",
       "       [0.00054682]])"
      ]
     },
     "execution_count": 11,
     "metadata": {},
     "output_type": "execute_result"
    }
   ],
   "source": [
    "y_pred_valid"
   ]
  },
  {
   "cell_type": "markdown",
   "metadata": {},
   "source": [
    "# Evaluate process"
   ]
  },
  {
   "cell_type": "code",
   "execution_count": 13,
   "metadata": {
    "ExecuteTime": {
     "end_time": "2018-04-03T13:51:07.148746Z",
     "start_time": "2018-04-03T13:51:07.122549Z"
    },
    "collapsed": true
   },
   "outputs": [],
   "source": [
    "def evaluate(click, payprice, bidprice, slotprice, budget_litmit=6250 * 1000):\n",
    "    num_click = 0\n",
    "    budget = budget_litmit\n",
    "    cost = 0\n",
    "    impression = 0\n",
    "    \n",
    "    for i in range(len(click)):\n",
    "        if budget == 0:\n",
    "            return num_click, cost, impression\n",
    "        \n",
    "        if bidprice[i] > payprice[i] and budget > payprice[i] and bidprice[i] > slotprice[i]:\n",
    "            num_click += click[i]\n",
    "            budget -= payprice[i]\n",
    "            impression += 1\n",
    "            cost += payprice[i]\n",
    "            \n",
    "    return num_click, cost, impression\n",
    "            "
   ]
  },
  {
   "cell_type": "markdown",
   "metadata": {},
   "source": [
    "# Constant Bid"
   ]
  },
  {
   "cell_type": "code",
   "execution_count": null,
   "metadata": {
    "collapsed": true
   },
   "outputs": [],
   "source": [
    "bidprice = np.ones_like(payprice) * 78\n",
    "evaluate(click, payprice, bidprice, slotprice)"
   ]
  },
  {
   "cell_type": "markdown",
   "metadata": {},
   "source": [
    "# Random Bid"
   ]
  },
  {
   "cell_type": "code",
   "execution_count": null,
   "metadata": {
    "collapsed": true
   },
   "outputs": [],
   "source": [
    "bidprice = np.random.randint(60,82,size=payprice.shape[0])\n",
    "evaluate(click, payprice, bidprice, slotprice)"
   ]
  },
  {
   "cell_type": "markdown",
   "metadata": {},
   "source": [
    "# Linear Bid"
   ]
  },
  {
   "cell_type": "code",
   "execution_count": 10,
   "metadata": {
    "ExecuteTime": {
     "end_time": "2018-03-25T19:58:21.991762Z",
     "start_time": "2018-03-25T19:58:21.620857Z"
    }
   },
   "outputs": [
    {
     "data": {
      "text/plain": [
       "(164, 6243736, 119095)"
      ]
     },
     "execution_count": 10,
     "metadata": {},
     "output_type": "execute_result"
    }
   ],
   "source": [
    "bidprice = pred_gl/avgCTR * 67\n",
    "evaluate(click, payprice, bidprice, slotprice)"
   ]
  },
  {
   "cell_type": "code",
   "execution_count": 11,
   "metadata": {
    "ExecuteTime": {
     "end_time": "2018-03-25T19:58:22.939241Z",
     "start_time": "2018-03-25T19:58:22.681719Z"
    }
   },
   "outputs": [
    {
     "data": {
      "text/plain": [
       "(163, 6127456, 122506)"
      ]
     },
     "execution_count": 11,
     "metadata": {},
     "output_type": "execute_result"
    }
   ],
   "source": [
    "bidprice = pred_esm/avgCTR * 66\n",
    "evaluate(click, payprice, bidprice, slotprice)"
   ]
  },
  {
   "cell_type": "markdown",
   "metadata": {},
   "source": [
    "# Linear Varient "
   ]
  },
  {
   "cell_type": "code",
   "execution_count": 75,
   "metadata": {
    "ExecuteTime": {
     "end_time": "2018-04-03T14:06:58.457214Z",
     "start_time": "2018-04-03T14:06:57.410093Z"
    }
   },
   "outputs": [
    {
     "data": {
      "text/plain": [
       "(168, 6186218, 99071)"
      ]
     },
     "execution_count": 75,
     "metadata": {},
     "output_type": "execute_result"
    }
   ],
   "source": [
    "bidprice = y_pred_valid / avgCTR * 126\n",
    "threshold = 0.9\n",
    "mask = pred_esm / avgCTR  < threshold\n",
    "bidprice[mask] = 0\n",
    "evaluate(click, payprice, bidprice, slotprice)"
   ]
  },
  {
   "cell_type": "code",
   "execution_count": 86,
   "metadata": {
    "ExecuteTime": {
     "end_time": "2018-04-03T14:10:25.855745Z",
     "start_time": "2018-04-03T14:10:12.193421Z"
    }
   },
   "outputs": [
    {
     "name": "stdout",
     "output_type": "stream",
     "text": [
      "100\n",
      "(165, 5828643, 104569)\n",
      "------\n",
      "101\n",
      "(165, 5876465, 105049)\n",
      "------\n",
      "102\n",
      "(165, 5929419, 105568)\n",
      "------\n",
      "103\n",
      "(165, 5978679, 106047)\n",
      "------\n",
      "104\n",
      "(166, 6030175, 106539)\n",
      "------\n",
      "105\n",
      "(166, 6080261, 107006)\n",
      "------\n",
      "106\n",
      "(166, 6127081, 107463)\n",
      "------\n",
      "107\n",
      "(166, 6176703, 107924)\n",
      "------\n",
      "108\n",
      "(166, 6221630, 108334)\n",
      "------\n",
      "109\n",
      "(164, 6249998, 108405)\n",
      "------\n",
      "110\n",
      "(164, 6249999, 108036)\n",
      "------\n",
      "111\n",
      "(163, 6249999, 107647)\n",
      "------\n",
      "112\n",
      "(160, 6249999, 107281)\n",
      "------\n",
      "113\n"
     ]
    },
    {
     "ename": "KeyboardInterrupt",
     "evalue": "",
     "output_type": "error",
     "traceback": [
      "\u001b[0;31m---------------------------------------------------------------------------\u001b[0m",
      "\u001b[0;31mKeyboardInterrupt\u001b[0m                         Traceback (most recent call last)",
      "\u001b[0;32m<ipython-input-86-bd7de26d27e5>\u001b[0m in \u001b[0;36m<module>\u001b[0;34m()\u001b[0m\n\u001b[1;32m      5\u001b[0m     \u001b[0mbidprice\u001b[0m\u001b[0;34m[\u001b[0m\u001b[0mmask\u001b[0m\u001b[0;34m]\u001b[0m \u001b[0;34m=\u001b[0m \u001b[0;36m0\u001b[0m\u001b[0;34m\u001b[0m\u001b[0m\n\u001b[1;32m      6\u001b[0m     \u001b[0mprint\u001b[0m\u001b[0;34m(\u001b[0m\u001b[0mi\u001b[0m\u001b[0;34m)\u001b[0m\u001b[0;34m\u001b[0m\u001b[0m\n\u001b[0;32m----> 7\u001b[0;31m     \u001b[0mprint\u001b[0m\u001b[0;34m(\u001b[0m\u001b[0mevaluate\u001b[0m\u001b[0;34m(\u001b[0m\u001b[0mclick\u001b[0m\u001b[0;34m,\u001b[0m \u001b[0mpayprice\u001b[0m\u001b[0;34m,\u001b[0m \u001b[0mbidprice\u001b[0m\u001b[0;34m,\u001b[0m \u001b[0mslotprice\u001b[0m\u001b[0;34m)\u001b[0m\u001b[0;34m)\u001b[0m\u001b[0;34m\u001b[0m\u001b[0m\n\u001b[0m\u001b[1;32m      8\u001b[0m     \u001b[0mprint\u001b[0m\u001b[0;34m(\u001b[0m\u001b[0;34m'------'\u001b[0m\u001b[0;34m)\u001b[0m\u001b[0;34m\u001b[0m\u001b[0m\n",
      "\u001b[0;32m<ipython-input-13-680d12473021>\u001b[0m in \u001b[0;36mevaluate\u001b[0;34m(click, payprice, bidprice, slotprice, budget_litmit)\u001b[0m\n\u001b[1;32m     11\u001b[0m         \u001b[0;32mif\u001b[0m \u001b[0mbidprice\u001b[0m\u001b[0;34m[\u001b[0m\u001b[0mi\u001b[0m\u001b[0;34m]\u001b[0m \u001b[0;34m>\u001b[0m \u001b[0mpayprice\u001b[0m\u001b[0;34m[\u001b[0m\u001b[0mi\u001b[0m\u001b[0;34m]\u001b[0m \u001b[0;32mand\u001b[0m \u001b[0mbudget\u001b[0m \u001b[0;34m>\u001b[0m \u001b[0mpayprice\u001b[0m\u001b[0;34m[\u001b[0m\u001b[0mi\u001b[0m\u001b[0;34m]\u001b[0m \u001b[0;32mand\u001b[0m \u001b[0mbidprice\u001b[0m\u001b[0;34m[\u001b[0m\u001b[0mi\u001b[0m\u001b[0;34m]\u001b[0m \u001b[0;34m>\u001b[0m \u001b[0mslotprice\u001b[0m\u001b[0;34m[\u001b[0m\u001b[0mi\u001b[0m\u001b[0;34m]\u001b[0m\u001b[0;34m:\u001b[0m\u001b[0;34m\u001b[0m\u001b[0m\n\u001b[1;32m     12\u001b[0m             \u001b[0mnum_click\u001b[0m \u001b[0;34m+=\u001b[0m \u001b[0mclick\u001b[0m\u001b[0;34m[\u001b[0m\u001b[0mi\u001b[0m\u001b[0;34m]\u001b[0m\u001b[0;34m\u001b[0m\u001b[0m\n\u001b[0;32m---> 13\u001b[0;31m             \u001b[0mbudget\u001b[0m \u001b[0;34m-=\u001b[0m \u001b[0mpayprice\u001b[0m\u001b[0;34m[\u001b[0m\u001b[0mi\u001b[0m\u001b[0;34m]\u001b[0m\u001b[0;34m\u001b[0m\u001b[0m\n\u001b[0m\u001b[1;32m     14\u001b[0m             \u001b[0mimpression\u001b[0m \u001b[0;34m+=\u001b[0m \u001b[0;36m1\u001b[0m\u001b[0;34m\u001b[0m\u001b[0m\n\u001b[1;32m     15\u001b[0m             \u001b[0mcost\u001b[0m \u001b[0;34m+=\u001b[0m \u001b[0mpayprice\u001b[0m\u001b[0;34m[\u001b[0m\u001b[0mi\u001b[0m\u001b[0;34m]\u001b[0m\u001b[0;34m\u001b[0m\u001b[0m\n",
      "\u001b[0;31mKeyboardInterrupt\u001b[0m: "
     ]
    }
   ],
   "source": [
    "for i in range(100,150):\n",
    "    bidprice = y_pred_valid / avgCTR * i\n",
    "    threshold = 0.7\n",
    "    mask = pred_esm / avgCTR  < threshold\n",
    "    bidprice[mask] = 0\n",
    "    print(i)\n",
    "    print(evaluate(click, payprice, bidprice, slotprice))\n",
    "    print('------')"
   ]
  },
  {
   "cell_type": "markdown",
   "metadata": {},
   "source": [
    "# ORTB1"
   ]
  },
  {
   "cell_type": "code",
   "execution_count": 231,
   "metadata": {
    "ExecuteTime": {
     "end_time": "2018-03-27T11:14:41.691885Z",
     "start_time": "2018-03-27T11:14:41.304931Z"
    }
   },
   "outputs": [
    {
     "data": {
      "text/plain": [
       "(162, 6218439, 130085)"
      ]
     },
     "execution_count": 231,
     "metadata": {},
     "output_type": "execute_result"
    }
   ],
   "source": [
    "c = 145\n",
    "lamb = 4e-06\n",
    "bidprice = np.sqrt((c/lamb)*pred_esm + c*c) - c\n",
    "evaluate(click, payprice, bidprice, slotprice)"
   ]
  },
  {
   "cell_type": "markdown",
   "metadata": {},
   "source": [
    "# ORTB2"
   ]
  },
  {
   "cell_type": "code",
   "execution_count": 232,
   "metadata": {
    "ExecuteTime": {
     "end_time": "2018-03-27T11:14:43.511538Z",
     "start_time": "2018-03-27T11:14:43.088687Z"
    }
   },
   "outputs": [
    {
     "data": {
      "text/plain": [
       "(163, 6249997, 130053)"
      ]
     },
     "execution_count": 232,
     "metadata": {},
     "output_type": "execute_result"
    }
   ],
   "source": [
    "c = 154\n",
    "lamb = 6e-06\n",
    "temp1 = c * lamb\n",
    "temp2 = np.sqrt(c*c*lamb*lamb+pred_esm*pred_esm) + pred_esm\n",
    "bidprice = c * (np.power(temp2/temp1, 1.0/3) - np.power(temp1/temp2, 1.0/3))\n",
    "evaluate(click, payprice, bidprice, slotprice)"
   ]
  },
  {
   "cell_type": "markdown",
   "metadata": {},
   "source": [
    "# Gate"
   ]
  },
  {
   "cell_type": "code",
   "execution_count": 161,
   "metadata": {
    "ExecuteTime": {
     "end_time": "2018-04-03T14:16:22.375435Z",
     "start_time": "2018-04-03T14:16:22.170917Z"
    }
   },
   "outputs": [
    {
     "data": {
      "text/plain": [
       "(146, 3459293, 37146)"
      ]
     },
     "execution_count": 161,
     "metadata": {},
     "output_type": "execute_result"
    }
   ],
   "source": [
    "threshold = 1.56\n",
    "bidprice = np.zeros_like(payprice)\n",
    "mask = (y_pred_valid / avgCTR > threshold).flatten()\n",
    "bidprice[mask] = 301\n",
    "evaluate(click, payprice, bidprice, slotprice)"
   ]
  },
  {
   "cell_type": "code",
   "execution_count": 138,
   "metadata": {
    "ExecuteTime": {
     "end_time": "2018-04-03T14:15:19.792932Z",
     "start_time": "2018-04-03T14:15:19.785508Z"
    }
   },
   "outputs": [
    {
     "data": {
      "text/plain": [
       "array([False, False, False, ..., False, False, False])"
      ]
     },
     "execution_count": 138,
     "metadata": {},
     "output_type": "execute_result"
    }
   ],
   "source": [
    "mask.flatten"
   ]
  },
  {
   "cell_type": "markdown",
   "metadata": {},
   "source": [
    "# Quardratic"
   ]
  },
  {
   "cell_type": "code",
   "execution_count": 125,
   "metadata": {
    "ExecuteTime": {
     "end_time": "2018-04-03T14:13:49.762059Z",
     "start_time": "2018-04-03T14:13:49.757273Z"
    }
   },
   "outputs": [],
   "source": [
    "base_bid = 25.2"
   ]
  },
  {
   "cell_type": "code",
   "execution_count": 126,
   "metadata": {
    "ExecuteTime": {
     "end_time": "2018-04-03T14:13:51.111877Z",
     "start_time": "2018-04-03T14:13:49.915697Z"
    }
   },
   "outputs": [
    {
     "data": {
      "text/plain": [
       "(164, 6238622, 143386)"
      ]
     },
     "execution_count": 126,
     "metadata": {},
     "output_type": "execute_result"
    }
   ],
   "source": [
    "bidprice = np.exp(y_pred_valid / avgCTR) * base_bid\n",
    "evaluate(click, payprice, bidprice, slotprice)"
   ]
  },
  {
   "cell_type": "markdown",
   "metadata": {},
   "source": [
    "# Combine"
   ]
  },
  {
   "cell_type": "code",
   "execution_count": 300,
   "metadata": {
    "ExecuteTime": {
     "end_time": "2018-03-27T11:17:50.763892Z",
     "start_time": "2018-03-27T11:17:50.474860Z"
    }
   },
   "outputs": [
    {
     "data": {
      "text/plain": [
       "(165, 6238419, 105085)"
      ]
     },
     "execution_count": 300,
     "metadata": {},
     "output_type": "execute_result"
    }
   ],
   "source": [
    "c = 105\n",
    "lamb = 6e-06\n",
    "bidprice = (np.sqrt((c/lamb)*pred_esm + c*c) - c) * pred_esm / avgCTR\n",
    "evaluate(click, payprice, bidprice, slotprice)"
   ]
  },
  {
   "cell_type": "code",
   "execution_count": 305,
   "metadata": {
    "ExecuteTime": {
     "end_time": "2018-03-27T11:17:59.635779Z",
     "start_time": "2018-03-27T11:17:59.303253Z"
    }
   },
   "outputs": [
    {
     "data": {
      "text/plain": [
       "(163, 5775194, 102581)"
      ]
     },
     "execution_count": 305,
     "metadata": {},
     "output_type": "execute_result"
    }
   ],
   "source": [
    "c = 42\n",
    "lamb = 7e-06\n",
    "temp1 = c * lamb\n",
    "temp2 = np.sqrt(c*c*lamb*lamb+pred_esm*pred_esm) + pred_esm\n",
    "bidprice = c * (np.power(temp2/temp1, 1.0/3) - np.power(temp1/temp2, 1.0/3)) * pred_esm / avgCTR\n",
    "evaluate(click, payprice, bidprice, slotprice)"
   ]
  },
  {
   "cell_type": "markdown",
   "metadata": {},
   "source": [
    "## Strategy for test"
   ]
  },
  {
   "cell_type": "code",
   "execution_count": 88,
   "metadata": {
    "ExecuteTime": {
     "end_time": "2018-04-03T14:10:36.808466Z",
     "start_time": "2018-04-03T14:10:36.804824Z"
    },
    "collapsed": true
   },
   "outputs": [],
   "source": [
    "idx = test['bidid']"
   ]
  },
  {
   "cell_type": "code",
   "execution_count": 93,
   "metadata": {
    "ExecuteTime": {
     "end_time": "2018-04-03T14:11:49.843574Z",
     "start_time": "2018-04-03T14:11:49.832032Z"
    }
   },
   "outputs": [],
   "source": [
    "bidprice = y_pred_test / avgCTR * 118\n",
    "threshold = 0.9\n",
    "mask = y_pred_test / avgCTR  < threshold\n",
    "bidprice[mask] = 0"
   ]
  },
  {
   "cell_type": "code",
   "execution_count": 94,
   "metadata": {
    "ExecuteTime": {
     "end_time": "2018-04-03T14:11:50.929430Z",
     "start_time": "2018-04-03T14:11:50.922383Z"
    }
   },
   "outputs": [],
   "source": [
    "result = pd.DataFrame(bidprice, columns=['bidprice'], index = idx)"
   ]
  },
  {
   "cell_type": "code",
   "execution_count": 95,
   "metadata": {
    "ExecuteTime": {
     "end_time": "2018-04-03T14:11:52.046342Z",
     "start_time": "2018-04-03T14:11:52.031642Z"
    }
   },
   "outputs": [
    {
     "data": {
      "text/html": [
       "<div>\n",
       "<style>\n",
       "    .dataframe thead tr:only-child th {\n",
       "        text-align: right;\n",
       "    }\n",
       "\n",
       "    .dataframe thead th {\n",
       "        text-align: left;\n",
       "    }\n",
       "\n",
       "    .dataframe tbody tr th {\n",
       "        vertical-align: top;\n",
       "    }\n",
       "</style>\n",
       "<table border=\"1\" class=\"dataframe\">\n",
       "  <thead>\n",
       "    <tr style=\"text-align: right;\">\n",
       "      <th></th>\n",
       "      <th>bidprice</th>\n",
       "    </tr>\n",
       "    <tr>\n",
       "      <th>bidid</th>\n",
       "      <th></th>\n",
       "    </tr>\n",
       "  </thead>\n",
       "  <tbody>\n",
       "    <tr>\n",
       "      <th>366c563de7d90feb9d4dab53e795a93fb3157387</th>\n",
       "      <td>181.254180</td>\n",
       "    </tr>\n",
       "    <tr>\n",
       "      <th>29167d4caa719788b5a342dbaa25151d53121f80</th>\n",
       "      <td>560.792323</td>\n",
       "    </tr>\n",
       "    <tr>\n",
       "      <th>ff8bc3f4d44a3ea60c5f3a3a8fbe7cd98fb2966e</th>\n",
       "      <td>0.000000</td>\n",
       "    </tr>\n",
       "    <tr>\n",
       "      <th>844c2da00d45315f20b748ec131c26ee99a7cbc7</th>\n",
       "      <td>155.085319</td>\n",
       "    </tr>\n",
       "    <tr>\n",
       "      <th>c6017f0ad0c44d7d0c9b62583ea863f28941c0ca</th>\n",
       "      <td>209.862921</td>\n",
       "    </tr>\n",
       "    <tr>\n",
       "      <th>7493c42f6d8f29d9f414b75c125ce3db40461ef9</th>\n",
       "      <td>0.000000</td>\n",
       "    </tr>\n",
       "    <tr>\n",
       "      <th>819fb6958ea48b10430710d009c57d55a31debcb</th>\n",
       "      <td>0.000000</td>\n",
       "    </tr>\n",
       "    <tr>\n",
       "      <th>8660774f6c94e32dfbd46add8a9bc94df3c74130</th>\n",
       "      <td>268.538337</td>\n",
       "    </tr>\n",
       "    <tr>\n",
       "      <th>ccc4c75ae4fd33526e5ecdae482c45c1dabc94db</th>\n",
       "      <td>0.000000</td>\n",
       "    </tr>\n",
       "    <tr>\n",
       "      <th>d9a212303746d85553966e902a315ba8812dd138</th>\n",
       "      <td>128.520316</td>\n",
       "    </tr>\n",
       "    <tr>\n",
       "      <th>117b42039ab5428b41968de285ff0cef632b9a31</th>\n",
       "      <td>0.000000</td>\n",
       "    </tr>\n",
       "    <tr>\n",
       "      <th>eda86e18ccd59b9b046d2593cc984ad6b84023bb</th>\n",
       "      <td>567.263843</td>\n",
       "    </tr>\n",
       "    <tr>\n",
       "      <th>4e69743e270ae61092a956a7fe58fc782f061c94</th>\n",
       "      <td>131.972255</td>\n",
       "    </tr>\n",
       "    <tr>\n",
       "      <th>da00f5e061e43678bffaab49bc8131d7ac877a5e</th>\n",
       "      <td>135.486284</td>\n",
       "    </tr>\n",
       "    <tr>\n",
       "      <th>2cc0c9e32d04cc4a14fa689c36e094104c914b86</th>\n",
       "      <td>118.334309</td>\n",
       "    </tr>\n",
       "    <tr>\n",
       "      <th>d75770e173713fa9abe37ed985f96d09c976b63d</th>\n",
       "      <td>0.000000</td>\n",
       "    </tr>\n",
       "    <tr>\n",
       "      <th>168b4012103864856f2408505b92a4712f2bf417</th>\n",
       "      <td>0.000000</td>\n",
       "    </tr>\n",
       "    <tr>\n",
       "      <th>ce620247387889b2ed5f87b198e47d18bc568d44</th>\n",
       "      <td>0.000000</td>\n",
       "    </tr>\n",
       "    <tr>\n",
       "      <th>2ac9beb972ad210bb7f238e29fc45099daaad47b</th>\n",
       "      <td>0.000000</td>\n",
       "    </tr>\n",
       "    <tr>\n",
       "      <th>e53edfaba24554155530d243028d8fa6f691c7f3</th>\n",
       "      <td>0.000000</td>\n",
       "    </tr>\n",
       "    <tr>\n",
       "      <th>64c9a43b493e50b97b085579933c948be656e44f</th>\n",
       "      <td>117.108632</td>\n",
       "    </tr>\n",
       "    <tr>\n",
       "      <th>aa5317f9ef6dc369211ee30fd94d161546d6327e</th>\n",
       "      <td>0.000000</td>\n",
       "    </tr>\n",
       "    <tr>\n",
       "      <th>b321ede9c91624ffaae47550ea4c03c48cf845a2</th>\n",
       "      <td>0.000000</td>\n",
       "    </tr>\n",
       "    <tr>\n",
       "      <th>76bfd2f5e16aa97f2ad41fbd8be4a1f65d850e44</th>\n",
       "      <td>0.000000</td>\n",
       "    </tr>\n",
       "    <tr>\n",
       "      <th>a8670288947b1fb5cecaa8432726a6f7552cf7e8</th>\n",
       "      <td>0.000000</td>\n",
       "    </tr>\n",
       "    <tr>\n",
       "      <th>2376e9b4169f6b3cecde106accd9ab4068277aee</th>\n",
       "      <td>410.094863</td>\n",
       "    </tr>\n",
       "    <tr>\n",
       "      <th>1cbcc1cda8e3333771b9522739072aa9e6c0aa5a</th>\n",
       "      <td>0.000000</td>\n",
       "    </tr>\n",
       "    <tr>\n",
       "      <th>0f06e0713b66515f6b56f29db0a8b71fee379505</th>\n",
       "      <td>0.000000</td>\n",
       "    </tr>\n",
       "    <tr>\n",
       "      <th>0e1a3753f5021f45641059e2a074ee3b25a7cc27</th>\n",
       "      <td>0.000000</td>\n",
       "    </tr>\n",
       "    <tr>\n",
       "      <th>a9dfe5f47d7923972c89029b688aff3ba68b3f51</th>\n",
       "      <td>0.000000</td>\n",
       "    </tr>\n",
       "    <tr>\n",
       "      <th>...</th>\n",
       "      <td>...</td>\n",
       "    </tr>\n",
       "    <tr>\n",
       "      <th>4ae6fdeb554cc5a68ef5e1fd58722dae0707b63a</th>\n",
       "      <td>134.305291</td>\n",
       "    </tr>\n",
       "    <tr>\n",
       "      <th>d07df2ff804f4a2d12cf245738a849ce1abae206</th>\n",
       "      <td>106.857614</td>\n",
       "    </tr>\n",
       "    <tr>\n",
       "      <th>dbaaf77ed615aca8ad4519c786b6e09ae91bab80</th>\n",
       "      <td>0.000000</td>\n",
       "    </tr>\n",
       "    <tr>\n",
       "      <th>581ef0b8a150bbbf72928def06191fe6fdae90a5</th>\n",
       "      <td>0.000000</td>\n",
       "    </tr>\n",
       "    <tr>\n",
       "      <th>ffd619898fc31b65a09327df571f5e87e164dd89</th>\n",
       "      <td>0.000000</td>\n",
       "    </tr>\n",
       "    <tr>\n",
       "      <th>73b0014bdaf29cf1146087f19508d4285d6a04b7</th>\n",
       "      <td>0.000000</td>\n",
       "    </tr>\n",
       "    <tr>\n",
       "      <th>f0c8dd5ebe162b6ac84e1a826d238e6e438c1854</th>\n",
       "      <td>143.247513</td>\n",
       "    </tr>\n",
       "    <tr>\n",
       "      <th>7cd56285c7e6ad636d57251a498321cb19378db6</th>\n",
       "      <td>187.570193</td>\n",
       "    </tr>\n",
       "    <tr>\n",
       "      <th>b1612e446eb306c69e75083bb95a5c0ffe78753a</th>\n",
       "      <td>277.264428</td>\n",
       "    </tr>\n",
       "    <tr>\n",
       "      <th>6dbf293379e837ad3e6037197f00a5e86f5d69c6</th>\n",
       "      <td>0.000000</td>\n",
       "    </tr>\n",
       "    <tr>\n",
       "      <th>4b1ab8c62481e379d4e4b33b8a9c591309af549a</th>\n",
       "      <td>0.000000</td>\n",
       "    </tr>\n",
       "    <tr>\n",
       "      <th>5346eef76432548bb3af95eb572ab5d3caa19332</th>\n",
       "      <td>194.311034</td>\n",
       "    </tr>\n",
       "    <tr>\n",
       "      <th>b8089316056e2c32c30d78d3e43a828b2ff2e208</th>\n",
       "      <td>0.000000</td>\n",
       "    </tr>\n",
       "    <tr>\n",
       "      <th>75e7eb73b7f345990fe3a50d04408443a6baa0d8</th>\n",
       "      <td>0.000000</td>\n",
       "    </tr>\n",
       "    <tr>\n",
       "      <th>62373fded1e53943e5492929a9e7b1c8771513d2</th>\n",
       "      <td>0.000000</td>\n",
       "    </tr>\n",
       "    <tr>\n",
       "      <th>08b534b8d43e110ffbb649cfa51f678b315cc7fa</th>\n",
       "      <td>119.913229</td>\n",
       "    </tr>\n",
       "    <tr>\n",
       "      <th>0767b51a99fee40a0a678ce3ff97102554384262</th>\n",
       "      <td>0.000000</td>\n",
       "    </tr>\n",
       "    <tr>\n",
       "      <th>b205584aa8164931790ef99cbd2ddbe029df10f8</th>\n",
       "      <td>0.000000</td>\n",
       "    </tr>\n",
       "    <tr>\n",
       "      <th>253dcd4ba1aa188805774966de47a43c871b81d7</th>\n",
       "      <td>0.000000</td>\n",
       "    </tr>\n",
       "    <tr>\n",
       "      <th>1c7322cf232e289a22805bfa4786a4d9afa10254</th>\n",
       "      <td>122.641769</td>\n",
       "    </tr>\n",
       "    <tr>\n",
       "      <th>b4a73d3c1b63ebd646b95fd6bd1e2e20afb081d6</th>\n",
       "      <td>0.000000</td>\n",
       "    </tr>\n",
       "    <tr>\n",
       "      <th>4fc317f2a3f5c80c92bb9e4e2d18c4dbacc6a14b</th>\n",
       "      <td>0.000000</td>\n",
       "    </tr>\n",
       "    <tr>\n",
       "      <th>922e2d268729fe743c2deb8f015bf696834ca9bc</th>\n",
       "      <td>0.000000</td>\n",
       "    </tr>\n",
       "    <tr>\n",
       "      <th>c0cfb39d67204c9687fac99d206f46b9791645d7</th>\n",
       "      <td>237.269956</td>\n",
       "    </tr>\n",
       "    <tr>\n",
       "      <th>243768b472f0933c11f5b75a166023aa5b25271e</th>\n",
       "      <td>0.000000</td>\n",
       "    </tr>\n",
       "    <tr>\n",
       "      <th>c3bb9e4340efd0b7727e1340be7975856878e27c</th>\n",
       "      <td>0.000000</td>\n",
       "    </tr>\n",
       "    <tr>\n",
       "      <th>75a0dac04603fa79e811f1c3e7d1a309f5a81bbf</th>\n",
       "      <td>0.000000</td>\n",
       "    </tr>\n",
       "    <tr>\n",
       "      <th>edb83d1e92bab4113360a655b68c2e44ace6a81d</th>\n",
       "      <td>0.000000</td>\n",
       "    </tr>\n",
       "    <tr>\n",
       "      <th>5eca186cb78a6eaadf91aa7070c88f2c25e31464</th>\n",
       "      <td>159.674252</td>\n",
       "    </tr>\n",
       "    <tr>\n",
       "      <th>afcdff59c976336fbcecb98b2c7379d369496131</th>\n",
       "      <td>0.000000</td>\n",
       "    </tr>\n",
       "  </tbody>\n",
       "</table>\n",
       "<p>303375 rows × 1 columns</p>\n",
       "</div>"
      ],
      "text/plain": [
       "                                            bidprice\n",
       "bidid                                               \n",
       "366c563de7d90feb9d4dab53e795a93fb3157387  181.254180\n",
       "29167d4caa719788b5a342dbaa25151d53121f80  560.792323\n",
       "ff8bc3f4d44a3ea60c5f3a3a8fbe7cd98fb2966e    0.000000\n",
       "844c2da00d45315f20b748ec131c26ee99a7cbc7  155.085319\n",
       "c6017f0ad0c44d7d0c9b62583ea863f28941c0ca  209.862921\n",
       "7493c42f6d8f29d9f414b75c125ce3db40461ef9    0.000000\n",
       "819fb6958ea48b10430710d009c57d55a31debcb    0.000000\n",
       "8660774f6c94e32dfbd46add8a9bc94df3c74130  268.538337\n",
       "ccc4c75ae4fd33526e5ecdae482c45c1dabc94db    0.000000\n",
       "d9a212303746d85553966e902a315ba8812dd138  128.520316\n",
       "117b42039ab5428b41968de285ff0cef632b9a31    0.000000\n",
       "eda86e18ccd59b9b046d2593cc984ad6b84023bb  567.263843\n",
       "4e69743e270ae61092a956a7fe58fc782f061c94  131.972255\n",
       "da00f5e061e43678bffaab49bc8131d7ac877a5e  135.486284\n",
       "2cc0c9e32d04cc4a14fa689c36e094104c914b86  118.334309\n",
       "d75770e173713fa9abe37ed985f96d09c976b63d    0.000000\n",
       "168b4012103864856f2408505b92a4712f2bf417    0.000000\n",
       "ce620247387889b2ed5f87b198e47d18bc568d44    0.000000\n",
       "2ac9beb972ad210bb7f238e29fc45099daaad47b    0.000000\n",
       "e53edfaba24554155530d243028d8fa6f691c7f3    0.000000\n",
       "64c9a43b493e50b97b085579933c948be656e44f  117.108632\n",
       "aa5317f9ef6dc369211ee30fd94d161546d6327e    0.000000\n",
       "b321ede9c91624ffaae47550ea4c03c48cf845a2    0.000000\n",
       "76bfd2f5e16aa97f2ad41fbd8be4a1f65d850e44    0.000000\n",
       "a8670288947b1fb5cecaa8432726a6f7552cf7e8    0.000000\n",
       "2376e9b4169f6b3cecde106accd9ab4068277aee  410.094863\n",
       "1cbcc1cda8e3333771b9522739072aa9e6c0aa5a    0.000000\n",
       "0f06e0713b66515f6b56f29db0a8b71fee379505    0.000000\n",
       "0e1a3753f5021f45641059e2a074ee3b25a7cc27    0.000000\n",
       "a9dfe5f47d7923972c89029b688aff3ba68b3f51    0.000000\n",
       "...                                              ...\n",
       "4ae6fdeb554cc5a68ef5e1fd58722dae0707b63a  134.305291\n",
       "d07df2ff804f4a2d12cf245738a849ce1abae206  106.857614\n",
       "dbaaf77ed615aca8ad4519c786b6e09ae91bab80    0.000000\n",
       "581ef0b8a150bbbf72928def06191fe6fdae90a5    0.000000\n",
       "ffd619898fc31b65a09327df571f5e87e164dd89    0.000000\n",
       "73b0014bdaf29cf1146087f19508d4285d6a04b7    0.000000\n",
       "f0c8dd5ebe162b6ac84e1a826d238e6e438c1854  143.247513\n",
       "7cd56285c7e6ad636d57251a498321cb19378db6  187.570193\n",
       "b1612e446eb306c69e75083bb95a5c0ffe78753a  277.264428\n",
       "6dbf293379e837ad3e6037197f00a5e86f5d69c6    0.000000\n",
       "4b1ab8c62481e379d4e4b33b8a9c591309af549a    0.000000\n",
       "5346eef76432548bb3af95eb572ab5d3caa19332  194.311034\n",
       "b8089316056e2c32c30d78d3e43a828b2ff2e208    0.000000\n",
       "75e7eb73b7f345990fe3a50d04408443a6baa0d8    0.000000\n",
       "62373fded1e53943e5492929a9e7b1c8771513d2    0.000000\n",
       "08b534b8d43e110ffbb649cfa51f678b315cc7fa  119.913229\n",
       "0767b51a99fee40a0a678ce3ff97102554384262    0.000000\n",
       "b205584aa8164931790ef99cbd2ddbe029df10f8    0.000000\n",
       "253dcd4ba1aa188805774966de47a43c871b81d7    0.000000\n",
       "1c7322cf232e289a22805bfa4786a4d9afa10254  122.641769\n",
       "b4a73d3c1b63ebd646b95fd6bd1e2e20afb081d6    0.000000\n",
       "4fc317f2a3f5c80c92bb9e4e2d18c4dbacc6a14b    0.000000\n",
       "922e2d268729fe743c2deb8f015bf696834ca9bc    0.000000\n",
       "c0cfb39d67204c9687fac99d206f46b9791645d7  237.269956\n",
       "243768b472f0933c11f5b75a166023aa5b25271e    0.000000\n",
       "c3bb9e4340efd0b7727e1340be7975856878e27c    0.000000\n",
       "75a0dac04603fa79e811f1c3e7d1a309f5a81bbf    0.000000\n",
       "edb83d1e92bab4113360a655b68c2e44ace6a81d    0.000000\n",
       "5eca186cb78a6eaadf91aa7070c88f2c25e31464  159.674252\n",
       "afcdff59c976336fbcecb98b2c7379d369496131    0.000000\n",
       "\n",
       "[303375 rows x 1 columns]"
      ]
     },
     "execution_count": 95,
     "metadata": {},
     "output_type": "execute_result"
    }
   ],
   "source": [
    "result"
   ]
  },
  {
   "cell_type": "code",
   "execution_count": 96,
   "metadata": {
    "ExecuteTime": {
     "end_time": "2018-04-03T14:11:53.747087Z",
     "start_time": "2018-04-03T14:11:53.079381Z"
    },
    "collapsed": true
   },
   "outputs": [],
   "source": [
    "result.to_csv('../test_bid_price/testing_bidding_price.csv')"
   ]
  },
  {
   "cell_type": "code",
   "execution_count": null,
   "metadata": {
    "collapsed": true
   },
   "outputs": [],
   "source": []
  }
 ],
 "metadata": {
  "kernelspec": {
   "display_name": "Python 3",
   "language": "python",
   "name": "python3"
  },
  "language_info": {
   "codemirror_mode": {
    "name": "ipython",
    "version": 3
   },
   "file_extension": ".py",
   "mimetype": "text/x-python",
   "name": "python",
   "nbconvert_exporter": "python",
   "pygments_lexer": "ipython3",
   "version": "3.6.2"
  }
 },
 "nbformat": 4,
 "nbformat_minor": 2
}
